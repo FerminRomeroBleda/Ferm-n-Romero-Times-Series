{
 "cells": [
  {
   "cell_type": "markdown",
   "metadata": {},
   "source": [
    "# Time Series\n",
    "\n",
    "---"
   ]
  },
  {
   "cell_type": "code",
   "execution_count": 23,
   "metadata": {},
   "outputs": [],
   "source": [
    "import pandas as pd\n",
    "import matplotlib.pyplot as plt\n",
    "import seaborn as sns"
   ]
  },
  {
   "cell_type": "markdown",
   "metadata": {},
   "source": [
    "## Data"
   ]
  },
  {
   "cell_type": "code",
   "execution_count": 14,
   "metadata": {},
   "outputs": [
    {
     "data": {
      "text/html": [
       "<div>\n",
       "<style scoped>\n",
       "    .dataframe tbody tr th:only-of-type {\n",
       "        vertical-align: middle;\n",
       "    }\n",
       "\n",
       "    .dataframe tbody tr th {\n",
       "        vertical-align: top;\n",
       "    }\n",
       "\n",
       "    .dataframe thead th {\n",
       "        text-align: right;\n",
       "    }\n",
       "</style>\n",
       "<table border=\"1\" class=\"dataframe\">\n",
       "  <thead>\n",
       "    <tr style=\"text-align: right;\">\n",
       "      <th></th>\n",
       "      <th>Date</th>\n",
       "      <th>Rainfall_Bastia_Umbra</th>\n",
       "      <th>Depth_to_Groundwater_P24</th>\n",
       "      <th>Depth_to_Groundwater_P25</th>\n",
       "      <th>Temperature_Bastia_Umbra</th>\n",
       "      <th>Temperature_Petrignano</th>\n",
       "      <th>Volume_C10_Petrignano</th>\n",
       "      <th>Hydrometry_Fiume_Chiascio_Petrignano</th>\n",
       "    </tr>\n",
       "  </thead>\n",
       "  <tbody>\n",
       "    <tr>\n",
       "      <th>0</th>\n",
       "      <td>14/03/2006</td>\n",
       "      <td>NaN</td>\n",
       "      <td>-22.48</td>\n",
       "      <td>-22.18</td>\n",
       "      <td>NaN</td>\n",
       "      <td>NaN</td>\n",
       "      <td>NaN</td>\n",
       "      <td>NaN</td>\n",
       "    </tr>\n",
       "    <tr>\n",
       "      <th>1</th>\n",
       "      <td>15/03/2006</td>\n",
       "      <td>NaN</td>\n",
       "      <td>-22.38</td>\n",
       "      <td>-22.14</td>\n",
       "      <td>NaN</td>\n",
       "      <td>NaN</td>\n",
       "      <td>NaN</td>\n",
       "      <td>NaN</td>\n",
       "    </tr>\n",
       "    <tr>\n",
       "      <th>2</th>\n",
       "      <td>16/03/2006</td>\n",
       "      <td>NaN</td>\n",
       "      <td>-22.25</td>\n",
       "      <td>-22.04</td>\n",
       "      <td>NaN</td>\n",
       "      <td>NaN</td>\n",
       "      <td>NaN</td>\n",
       "      <td>NaN</td>\n",
       "    </tr>\n",
       "  </tbody>\n",
       "</table>\n",
       "</div>"
      ],
      "text/plain": [
       "         Date  Rainfall_Bastia_Umbra  Depth_to_Groundwater_P24  \\\n",
       "0  14/03/2006                    NaN                    -22.48   \n",
       "1  15/03/2006                    NaN                    -22.38   \n",
       "2  16/03/2006                    NaN                    -22.25   \n",
       "\n",
       "   Depth_to_Groundwater_P25  Temperature_Bastia_Umbra  Temperature_Petrignano  \\\n",
       "0                    -22.18                       NaN                     NaN   \n",
       "1                    -22.14                       NaN                     NaN   \n",
       "2                    -22.04                       NaN                     NaN   \n",
       "\n",
       "   Volume_C10_Petrignano  Hydrometry_Fiume_Chiascio_Petrignano  \n",
       "0                    NaN                                   NaN  \n",
       "1                    NaN                                   NaN  \n",
       "2                    NaN                                   NaN  "
      ]
     },
     "execution_count": 14,
     "metadata": {},
     "output_type": "execute_result"
    }
   ],
   "source": [
    "df = pd.read_csv(\"../data/Acea-Smart-Water/Aquifer_Pretignano/raw/Aquifer_Petrignano.csv\")\n",
    "\n",
    "df.head(3)"
   ]
  },
  {
   "cell_type": "code",
   "execution_count": 15,
   "metadata": {},
   "outputs": [
    {
     "name": "stdout",
     "output_type": "stream",
     "text": [
      "The dimensions of this dataset are: 5223 Rows and 8 Columns\n"
     ]
    }
   ],
   "source": [
    "# Obtain dimensions\n",
    "\n",
    "rows, columns = df.shape\n",
    "\n",
    "print(f\"The dimensions of this dataset are: {rows} Rows and {columns} Columns\")"
   ]
  },
  {
   "cell_type": "code",
   "execution_count": 16,
   "metadata": {},
   "outputs": [],
   "source": [
    "# Remove old rows\n",
    "df = df[df.Rainfall_Bastia_Umbra.notna()].reset_index(drop=True)\n",
    "# Remove not usefull columns\n",
    "df = df.drop(['Depth_to_Groundwater_P24', 'Temperature_Petrignano'], axis=1)"
   ]
  },
  {
   "cell_type": "code",
   "execution_count": 17,
   "metadata": {},
   "outputs": [
    {
     "name": "stdout",
     "output_type": "stream",
     "text": [
      "The dimensions of this dataset are: 4199 Rows and 6 Columns\n"
     ]
    }
   ],
   "source": [
    "# Obtain dimensions\n",
    "\n",
    "rows, columns = df.shape\n",
    "\n",
    "print(f\"The dimensions of this dataset are: {rows} Rows and {columns} Columns\")"
   ]
  },
  {
   "cell_type": "code",
   "execution_count": 18,
   "metadata": {},
   "outputs": [
    {
     "data": {
      "text/html": [
       "<div>\n",
       "<style scoped>\n",
       "    .dataframe tbody tr th:only-of-type {\n",
       "        vertical-align: middle;\n",
       "    }\n",
       "\n",
       "    .dataframe tbody tr th {\n",
       "        vertical-align: top;\n",
       "    }\n",
       "\n",
       "    .dataframe thead th {\n",
       "        text-align: right;\n",
       "    }\n",
       "</style>\n",
       "<table border=\"1\" class=\"dataframe\">\n",
       "  <thead>\n",
       "    <tr style=\"text-align: right;\">\n",
       "      <th></th>\n",
       "      <th>Date</th>\n",
       "      <th>Rainfall_Bastia_Umbra</th>\n",
       "      <th>Depth_to_Groundwater_P25</th>\n",
       "      <th>Temperature_Bastia_Umbra</th>\n",
       "      <th>Volume_C10_Petrignano</th>\n",
       "      <th>Hydrometry_Fiume_Chiascio_Petrignano</th>\n",
       "    </tr>\n",
       "  </thead>\n",
       "  <tbody>\n",
       "    <tr>\n",
       "      <th>0</th>\n",
       "      <td>01/01/2009</td>\n",
       "      <td>0.0</td>\n",
       "      <td>-31.14</td>\n",
       "      <td>5.2</td>\n",
       "      <td>-24530.688</td>\n",
       "      <td>2.4</td>\n",
       "    </tr>\n",
       "    <tr>\n",
       "      <th>1</th>\n",
       "      <td>02/01/2009</td>\n",
       "      <td>0.0</td>\n",
       "      <td>-31.11</td>\n",
       "      <td>2.3</td>\n",
       "      <td>-28785.888</td>\n",
       "      <td>2.5</td>\n",
       "    </tr>\n",
       "    <tr>\n",
       "      <th>2</th>\n",
       "      <td>03/01/2009</td>\n",
       "      <td>0.0</td>\n",
       "      <td>-31.07</td>\n",
       "      <td>4.4</td>\n",
       "      <td>-25766.208</td>\n",
       "      <td>2.4</td>\n",
       "    </tr>\n",
       "  </tbody>\n",
       "</table>\n",
       "</div>"
      ],
      "text/plain": [
       "         Date  Rainfall_Bastia_Umbra  Depth_to_Groundwater_P25  \\\n",
       "0  01/01/2009                    0.0                    -31.14   \n",
       "1  02/01/2009                    0.0                    -31.11   \n",
       "2  03/01/2009                    0.0                    -31.07   \n",
       "\n",
       "   Temperature_Bastia_Umbra  Volume_C10_Petrignano  \\\n",
       "0                       5.2             -24530.688   \n",
       "1                       2.3             -28785.888   \n",
       "2                       4.4             -25766.208   \n",
       "\n",
       "   Hydrometry_Fiume_Chiascio_Petrignano  \n",
       "0                                   2.4  \n",
       "1                                   2.5  \n",
       "2                                   2.4  "
      ]
     },
     "execution_count": 18,
     "metadata": {},
     "output_type": "execute_result"
    }
   ],
   "source": [
    "df.head(3)"
   ]
  },
  {
   "cell_type": "code",
   "execution_count": 19,
   "metadata": {},
   "outputs": [
    {
     "name": "stdout",
     "output_type": "stream",
     "text": [
      "<class 'pandas.core.frame.DataFrame'>\n",
      "RangeIndex: 4199 entries, 0 to 4198\n",
      "Data columns (total 6 columns):\n",
      " #   Column                                Non-Null Count  Dtype  \n",
      "---  ------                                --------------  -----  \n",
      " 0   Date                                  4199 non-null   object \n",
      " 1   Rainfall_Bastia_Umbra                 4199 non-null   float64\n",
      " 2   Depth_to_Groundwater_P25              4172 non-null   float64\n",
      " 3   Temperature_Bastia_Umbra              4199 non-null   float64\n",
      " 4   Volume_C10_Petrignano                 4198 non-null   float64\n",
      " 5   Hydrometry_Fiume_Chiascio_Petrignano  4199 non-null   float64\n",
      "dtypes: float64(5), object(1)\n",
      "memory usage: 197.0+ KB\n"
     ]
    }
   ],
   "source": [
    "# Obtain information about data types and non-null values\n",
    "\n",
    "df.info()"
   ]
  },
  {
   "cell_type": "code",
   "execution_count": null,
   "metadata": {},
   "outputs": [
    {
     "data": {
      "text/html": [
       "<div>\n",
       "<style scoped>\n",
       "    .dataframe tbody tr th:only-of-type {\n",
       "        vertical-align: middle;\n",
       "    }\n",
       "\n",
       "    .dataframe tbody tr th {\n",
       "        vertical-align: top;\n",
       "    }\n",
       "\n",
       "    .dataframe thead th {\n",
       "        text-align: right;\n",
       "    }\n",
       "</style>\n",
       "<table border=\"1\" class=\"dataframe\">\n",
       "  <thead>\n",
       "    <tr style=\"text-align: right;\">\n",
       "      <th></th>\n",
       "      <th>date</th>\n",
       "      <th>rainfall</th>\n",
       "      <th>depth_to_groundwater</th>\n",
       "      <th>temperature</th>\n",
       "      <th>drainage_volume</th>\n",
       "      <th>river_hydrometry</th>\n",
       "    </tr>\n",
       "  </thead>\n",
       "  <tbody>\n",
       "    <tr>\n",
       "      <th>0</th>\n",
       "      <td>01/01/2009</td>\n",
       "      <td>0.0</td>\n",
       "      <td>-31.14</td>\n",
       "      <td>5.2</td>\n",
       "      <td>-24530.688</td>\n",
       "      <td>2.4</td>\n",
       "    </tr>\n",
       "    <tr>\n",
       "      <th>1</th>\n",
       "      <td>02/01/2009</td>\n",
       "      <td>0.0</td>\n",
       "      <td>-31.11</td>\n",
       "      <td>2.3</td>\n",
       "      <td>-28785.888</td>\n",
       "      <td>2.5</td>\n",
       "    </tr>\n",
       "    <tr>\n",
       "      <th>2</th>\n",
       "      <td>03/01/2009</td>\n",
       "      <td>0.0</td>\n",
       "      <td>-31.07</td>\n",
       "      <td>4.4</td>\n",
       "      <td>-25766.208</td>\n",
       "      <td>2.4</td>\n",
       "    </tr>\n",
       "  </tbody>\n",
       "</table>\n",
       "</div>"
      ],
      "text/plain": [
       "         date  rainfall  depth_to_groundwater  temperature  drainage_volume  \\\n",
       "0  01/01/2009       0.0                -31.14          5.2       -24530.688   \n",
       "1  02/01/2009       0.0                -31.11          2.3       -28785.888   \n",
       "2  03/01/2009       0.0                -31.07          4.4       -25766.208   \n",
       "\n",
       "   river_hydrometry  \n",
       "0               2.4  \n",
       "1               2.5  \n",
       "2               2.4  "
      ]
     },
     "execution_count": 20,
     "metadata": {},
     "output_type": "execute_result"
    }
   ],
   "source": [
    "# Cambiar/Simplificar el nombre de las columnas\n",
    "\n",
    "df.columns = ['date', 'rainfall', 'depth_to_groundwater', 'temperature', 'drainage_volume', 'river_hydrometry']\n",
    "df.head(3)"
   ]
  },
  {
   "cell_type": "code",
   "execution_count": null,
   "metadata": {},
   "outputs": [
    {
     "data": {
      "text/plain": [
       "['date', 'rainfall', 'temperature', 'drainage_volume', 'river_hydrometry']"
      ]
     },
     "execution_count": 22,
     "metadata": {},
     "output_type": "execute_result"
    }
   ],
   "source": [
    "targets = ['depth_to_groundwater']\n",
    "features = [feature for feature in df.columns if feature not in targets]\n",
    "#                               | |\n",
    "# features = ['date', 'rainfall', 'temperature', 'drainage_volume', 'river_hydrometry'] es lo mismo\n",
    "features"
   ]
  },
  {
   "cell_type": "markdown",
   "metadata": {},
   "source": [
    "---\n",
    "\n",
    "## Data Visualization\n",
    "\n",
    "Features:\n",
    "\n",
    "- `Rainfall` indicates the quantity of rain falling (mm)\n",
    "\n",
    "- `Temperature` indicates the temperature (°C)\n",
    "\n",
    "- `Volume` indicates the volume of water taken from the drinking water treatment plant (m 3 )\n",
    "\n",
    "- `Hydrometry` indicates the groundwater level (m)\n",
    "\n",
    "\n",
    "Target:\n",
    "\n",
    "`Depth to Groundwater` indicates the groundwater level (m from the ground floor)"
   ]
  },
  {
   "cell_type": "code",
   "execution_count": null,
   "metadata": {},
   "outputs": [],
   "source": [
    "# To complete the data, as naive method, we will use ffill (Fill NA/NaN values by propagating the last valid observation to next valid.)\n",
    "\n",
    "f, ax = plt.subplots(nrows=5, ncols=1, figsize=(15, 25))\n",
    "\n",
    "for i, column in enumerate(df.drop('date', axis=1).columns):\n",
    "    sns.lineplot(x=df['date'], y=df[column].fillna(method='ffill'), ax=ax[i], color='dodgerblue')\n",
    "    ax[i].set_title('Feature: {}'.format(column), fontsize=14)\n",
    "    ax[i].set_ylabel(ylabel=column, fontsize=14)\n",
    "                      \n",
    "    ax[i].set_xlim([date(2009, 1, 1), date(2020, 6, 30)])  "
   ]
  },
  {
   "cell_type": "markdown",
   "metadata": {},
   "source": [
    "## Data Preprocessing"
   ]
  }
 ],
 "metadata": {
  "kernelspec": {
   "display_name": "base",
   "language": "python",
   "name": "python3"
  },
  "language_info": {
   "codemirror_mode": {
    "name": "ipython",
    "version": 3
   },
   "file_extension": ".py",
   "mimetype": "text/x-python",
   "name": "python",
   "nbconvert_exporter": "python",
   "pygments_lexer": "ipython3",
   "version": "3.12.3"
  },
  "orig_nbformat": 4
 },
 "nbformat": 4,
 "nbformat_minor": 2
}
