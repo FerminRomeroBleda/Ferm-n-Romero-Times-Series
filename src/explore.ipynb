{
 "cells": [
  {
   "cell_type": "markdown",
   "metadata": {},
   "source": [
    "# Time Series (Aquifer Petrignano)\n",
    "\n",
    "Type: Aquifer\n",
    "\n",
    "Description: The wells field of the alluvial plain between Ospedalicchio di Bastia Umbra and Petrignano is fed by three underground aquifers separated by low permeability septa. The aquifer can be considered a water table groundwater and is also fed by the Chiascio river. The groundwater levels are influenced by the following parameters: rainfall, depth to groundwater, temperatures and drainage volumes, level of the Chiascio river.\n",
    "\n",
    "\n",
    "---\n",
    "\n",
    "1. Entendimiento del problema y recolección de datos\n",
    "\n",
    ">Anotación: \n",
    "\n",
    "- Esta Serie es Multivariada (Varias variables relacionadas).\n",
    "\n",
    "- Tiene una frecuencia `**diaria**` desde el día `14/03/2006` hasta el día `30/06/2020`.\n",
    "\n",
    "- **Objetivo**: Predecir la cantidad de agua en cada waterbody Target = (`Depth to Groundwater`)\n",
    "\n",
    "---\n",
    "\n",
    "Can you build a story to predict the amount of water in each unique waterbody?\n",
    "\n",
    "**The challenge is** to determine how features influence the water availability of each presented waterbody.\n",
    "\n",
    "**Models should** capture volumes for each waterbody(for instance, for a model working on a monthly interval a forecast over the month is expected).\n",
    "\n",
    "**The desired outcome** is a notebook that can generate four mathematical models, one for each category of waterbody (acquifers, water springs, river, lake) that might be applicable to each single waterbody.\n",
    "\n",
    "---\n",
    "\n",
    "2. Preprocesamiento de Datos\n",
    "\n",
    "- **Conversión de fechas:** Asegurar que la columna de fechas esté en formato de tipo `Datetime`.\n",
    "\n",
    "- **Ajuste de Frecuencia:** Resamplear los datos si hay inconsistencias o para agregar datos.\n",
    "\n",
    "'''df = df.resample('D').mean()  # Reamuestra a frecuencia diaria'''\n",
    "\n",
    "- **Tratamiento de Datos Faltantes:** Imputación con métodos como forward-fill (ffill), interpolación o eliminación.\n",
    "\n",
    "'''df['valor'].fillna(method='ffill', inplace=True)'''\n",
    "\n",
    "---\n",
    "\n",
    "3. Exploración y Visualización\n",
    "\n",
    "- Gráfica de la Serie Temporal:\n",
    "\n",
    "- Descomposición de la Serie: separa en tendencia, estacionalidad y residuo.\n",
    "\n",
    "'''from statsmodels.tsa.seasonal import seasonal_decompose'''\n",
    "\n",
    "- Estacionariedad: Usa el test de Dickey-Fuller para verificar si la serie es estacionaria.\n",
    "\n",
    "'''from statsmodels.tsa.stattools import adfuller'''\n",
    "\n",
    "---\n",
    "\n",
    "\n",
    "4. Transformación de los datos\n",
    "\n",
    "- **Diferenciación:** Resta los valores consecutivos para eliminar tendencias.\n",
    "\n",
    "'''df['diferencia'] = df['valor'].diff()'''\n",
    "\n",
    "- **Transformación Logarítmica:** Estabiliza la varianza.\n",
    "\n",
    "'''df['log'] = np.log(df['valor'])'''\n",
    "\n",
    "---\n",
    "\n",
    "5. Modelización\n",
    "\n",
    "- Modelos clásicos:\n",
    "\n",
    "    - ARIMA (AutoRegressive Integrated Moving Average): Para series estacionarias.\n",
    "\n",
    "        '''from statsmodels.tsa.arima.model import ARIMA\n",
    "        \n",
    "            modelo = ARIMA(df['valor'], order=(p, d, q))\n",
    "\n",
    "            modelo_ajustado = modelo.fit()'''\n",
    "\n",
    "    - SARIMA (ARIMA Sazonal): Considera la estacionalidad.\n",
    "\n",
    "    - Prophet (Meta/Facebook): Fácil de usar y maneja bien estacionalidad y días festivos.\n",
    "\n",
    "- Redes Neuronales:\n",
    "\n",
    "    - LSTM (Long Short-Term Memory): Ideal para patrones complejos y a largo plazo.\n",
    "\n",
    "    - RNN (Redes Neuronales Recurrientes).\n",
    "\n",
    "---\n",
    "\n",
    "6. Validación y Evaluación\n",
    "\n",
    "- **División en Conjuntos de Entrenamiento/Prueba:** Divide correctamente los datos en función del tiempo.\n",
    "\n",
    "- **Métricas de Evaluación:** Usa métricas como MAE (Error Absoluto Medio), RMSE (Raíz del Error Cuadrático Medio) o MAPE (Error Porcentual Absoluto Medio).\n",
    "\n",
    "from sklearn.metrics import mean_absolute_error\n",
    "\n",
    "mae = mean_absolute_error(y_test, y_pred)\n",
    "\n",
    "print('MAE:', mae)\n",
    "\n",
    "---\n",
    "\n",
    "7. Forecasting (Predicción)\n",
    "\n",
    "- Realiza predicciones futuras con el modelo entrenado y visualiza los resultados.\n",
    "\n",
    "- Ajusta los hiperparámetros para mejorar el rendimiento del modelo.\n",
    "\n",
    "---\n",
    "\n",
    "8. Automatización y Monitoreo\n",
    "\n",
    "- Implementa pipelines automáticos para la recolección y predicción continua.\n",
    "\n",
    "- Monitorea el modelo para detectar cambios en el comportamiento de la serie temporal y realizar ajustes.\n",
    "\n",
    "---"
   ]
  },
  {
   "cell_type": "code",
   "execution_count": 66,
   "metadata": {},
   "outputs": [],
   "source": [
    "import pandas as pd\n",
    "import seaborn as sns\n",
    "import matplotlib.pyplot as plt\n",
    "from statsmodels.tsa.seasonal import seasonal_decompose\n",
    "\n",
    "from statsmodels.tsa.stattools import adfuller\n",
    "\n",
    "from statsmodels.graphics.tsaplots import plot_acf\n",
    "\n",
    "from pmdarima import auto_arima\n"
   ]
  },
  {
   "cell_type": "markdown",
   "metadata": {},
   "source": [
    "---\n",
    "\n",
    "## Resumen de datos"
   ]
  },
  {
   "cell_type": "code",
   "execution_count": 67,
   "metadata": {},
   "outputs": [
    {
     "data": {
      "text/html": [
       "<div>\n",
       "<style scoped>\n",
       "    .dataframe tbody tr th:only-of-type {\n",
       "        vertical-align: middle;\n",
       "    }\n",
       "\n",
       "    .dataframe tbody tr th {\n",
       "        vertical-align: top;\n",
       "    }\n",
       "\n",
       "    .dataframe thead th {\n",
       "        text-align: right;\n",
       "    }\n",
       "</style>\n",
       "<table border=\"1\" class=\"dataframe\">\n",
       "  <thead>\n",
       "    <tr style=\"text-align: right;\">\n",
       "      <th></th>\n",
       "      <th>Date</th>\n",
       "      <th>Rainfall_Bastia_Umbra</th>\n",
       "      <th>Depth_to_Groundwater_P24</th>\n",
       "      <th>Depth_to_Groundwater_P25</th>\n",
       "      <th>Temperature_Bastia_Umbra</th>\n",
       "      <th>Temperature_Petrignano</th>\n",
       "      <th>Volume_C10_Petrignano</th>\n",
       "      <th>Hydrometry_Fiume_Chiascio_Petrignano</th>\n",
       "    </tr>\n",
       "  </thead>\n",
       "  <tbody>\n",
       "    <tr>\n",
       "      <th>0</th>\n",
       "      <td>14/03/2006</td>\n",
       "      <td>NaN</td>\n",
       "      <td>-22.48</td>\n",
       "      <td>-22.18</td>\n",
       "      <td>NaN</td>\n",
       "      <td>NaN</td>\n",
       "      <td>NaN</td>\n",
       "      <td>NaN</td>\n",
       "    </tr>\n",
       "    <tr>\n",
       "      <th>1</th>\n",
       "      <td>15/03/2006</td>\n",
       "      <td>NaN</td>\n",
       "      <td>-22.38</td>\n",
       "      <td>-22.14</td>\n",
       "      <td>NaN</td>\n",
       "      <td>NaN</td>\n",
       "      <td>NaN</td>\n",
       "      <td>NaN</td>\n",
       "    </tr>\n",
       "    <tr>\n",
       "      <th>2</th>\n",
       "      <td>16/03/2006</td>\n",
       "      <td>NaN</td>\n",
       "      <td>-22.25</td>\n",
       "      <td>-22.04</td>\n",
       "      <td>NaN</td>\n",
       "      <td>NaN</td>\n",
       "      <td>NaN</td>\n",
       "      <td>NaN</td>\n",
       "    </tr>\n",
       "  </tbody>\n",
       "</table>\n",
       "</div>"
      ],
      "text/plain": [
       "         Date  Rainfall_Bastia_Umbra  Depth_to_Groundwater_P24  \\\n",
       "0  14/03/2006                    NaN                    -22.48   \n",
       "1  15/03/2006                    NaN                    -22.38   \n",
       "2  16/03/2006                    NaN                    -22.25   \n",
       "\n",
       "   Depth_to_Groundwater_P25  Temperature_Bastia_Umbra  Temperature_Petrignano  \\\n",
       "0                    -22.18                       NaN                     NaN   \n",
       "1                    -22.14                       NaN                     NaN   \n",
       "2                    -22.04                       NaN                     NaN   \n",
       "\n",
       "   Volume_C10_Petrignano  Hydrometry_Fiume_Chiascio_Petrignano  \n",
       "0                    NaN                                   NaN  \n",
       "1                    NaN                                   NaN  \n",
       "2                    NaN                                   NaN  "
      ]
     },
     "execution_count": 67,
     "metadata": {},
     "output_type": "execute_result"
    }
   ],
   "source": [
    "# Lee el archivo csv y lo guarda en la variable 'df'\n",
    "def load_csv(path):\n",
    "\n",
    "    global df\n",
    "    df = pd.read_csv(path)\n",
    "\n",
    "    return df    \n",
    "\n",
    "# Ejecutamos la función (las tres primeras filas)\n",
    "load_csv(\"../data/Acea-Smart-Water/Aquifer_Pretignano/raw/Aquifer_Petrignano.csv\").head(3)\n",
    "\n"
   ]
  },
  {
   "cell_type": "code",
   "execution_count": 68,
   "metadata": {},
   "outputs": [
    {
     "name": "stdout",
     "output_type": "stream",
     "text": [
      "The dimensions of this dataframe are: 5223 Rows and 8 Columns\n"
     ]
    }
   ],
   "source": [
    "# Obtener las dimensiones de nuestro dataframe\n",
    "def dimension(dataframe):\n",
    "\n",
    "    rows, columns = dataframe.shape\n",
    "\n",
    "    print(f\"The dimensions of this dataframe are: {rows} Rows and {columns} Columns\")\n",
    "\n",
    "# Ejecutamos la función con nuestro dataframe\n",
    "dimension(df)"
   ]
  },
  {
   "cell_type": "code",
   "execution_count": 69,
   "metadata": {},
   "outputs": [],
   "source": [
    "# Aquí vamos a filtar las filas NaN de la columna Rainfall_Bastia_Umbra\n",
    "   \n",
    "df = df[df['Rainfall_Bastia_Umbra'].notna()].reset_index(drop=True)\n",
    "   \n",
    "# 'notna()' = Detect existing (non-missing) values.\n",
    "# Elimina el índice original y crea uno nuevo, secuencial, comenzando desde 0.\n",
    "# drop=True evita que el índice anterior se agregue como una columna en el DataFrame."
   ]
  },
  {
   "cell_type": "code",
   "execution_count": 70,
   "metadata": {},
   "outputs": [],
   "source": [
    "# Remove not usefull columns\n",
    "\n",
    "df = df.drop(['Depth_to_Groundwater_P24', 'Temperature_Petrignano'], axis=1)"
   ]
  },
  {
   "cell_type": "code",
   "execution_count": 71,
   "metadata": {},
   "outputs": [
    {
     "name": "stdout",
     "output_type": "stream",
     "text": [
      "The dimensions of this dataframe are: 4199 Rows and 6 Columns\n"
     ]
    }
   ],
   "source": [
    "# Obtener las dimensiones de nuestro dataframe\n",
    "def dimension(dataframe):\n",
    "\n",
    "    rows, columns = dataframe.shape\n",
    "\n",
    "    print(f\"The dimensions of this dataframe are: {rows} Rows and {columns} Columns\")\n",
    "\n",
    "# Ejecutamos la función con nuestro dataframe\n",
    "dimension(df)"
   ]
  },
  {
   "cell_type": "markdown",
   "metadata": {},
   "source": [
    "Tras eliminar datos de nuestro dataframe las dimensiones han cambiado de 5223 filas a 4199\n",
    "y las columnas de 8 a 6.\n",
    "\n",
    "---"
   ]
  },
  {
   "cell_type": "code",
   "execution_count": 72,
   "metadata": {},
   "outputs": [
    {
     "data": {
      "text/html": [
       "<div>\n",
       "<style scoped>\n",
       "    .dataframe tbody tr th:only-of-type {\n",
       "        vertical-align: middle;\n",
       "    }\n",
       "\n",
       "    .dataframe tbody tr th {\n",
       "        vertical-align: top;\n",
       "    }\n",
       "\n",
       "    .dataframe thead th {\n",
       "        text-align: right;\n",
       "    }\n",
       "</style>\n",
       "<table border=\"1\" class=\"dataframe\">\n",
       "  <thead>\n",
       "    <tr style=\"text-align: right;\">\n",
       "      <th></th>\n",
       "      <th>Date</th>\n",
       "      <th>Rainfall_Bastia_Umbra</th>\n",
       "      <th>Depth_to_Groundwater_P25</th>\n",
       "      <th>Temperature_Bastia_Umbra</th>\n",
       "      <th>Volume_C10_Petrignano</th>\n",
       "      <th>Hydrometry_Fiume_Chiascio_Petrignano</th>\n",
       "    </tr>\n",
       "  </thead>\n",
       "  <tbody>\n",
       "    <tr>\n",
       "      <th>0</th>\n",
       "      <td>01/01/2009</td>\n",
       "      <td>0.0</td>\n",
       "      <td>-31.14</td>\n",
       "      <td>5.2</td>\n",
       "      <td>-24530.688</td>\n",
       "      <td>2.4</td>\n",
       "    </tr>\n",
       "    <tr>\n",
       "      <th>1</th>\n",
       "      <td>02/01/2009</td>\n",
       "      <td>0.0</td>\n",
       "      <td>-31.11</td>\n",
       "      <td>2.3</td>\n",
       "      <td>-28785.888</td>\n",
       "      <td>2.5</td>\n",
       "    </tr>\n",
       "    <tr>\n",
       "      <th>2</th>\n",
       "      <td>03/01/2009</td>\n",
       "      <td>0.0</td>\n",
       "      <td>-31.07</td>\n",
       "      <td>4.4</td>\n",
       "      <td>-25766.208</td>\n",
       "      <td>2.4</td>\n",
       "    </tr>\n",
       "  </tbody>\n",
       "</table>\n",
       "</div>"
      ],
      "text/plain": [
       "         Date  Rainfall_Bastia_Umbra  Depth_to_Groundwater_P25  \\\n",
       "0  01/01/2009                    0.0                    -31.14   \n",
       "1  02/01/2009                    0.0                    -31.11   \n",
       "2  03/01/2009                    0.0                    -31.07   \n",
       "\n",
       "   Temperature_Bastia_Umbra  Volume_C10_Petrignano  \\\n",
       "0                       5.2             -24530.688   \n",
       "1                       2.3             -28785.888   \n",
       "2                       4.4             -25766.208   \n",
       "\n",
       "   Hydrometry_Fiume_Chiascio_Petrignano  \n",
       "0                                   2.4  \n",
       "1                                   2.5  \n",
       "2                                   2.4  "
      ]
     },
     "execution_count": 72,
     "metadata": {},
     "output_type": "execute_result"
    }
   ],
   "source": [
    "df.head(3)"
   ]
  },
  {
   "cell_type": "code",
   "execution_count": 73,
   "metadata": {},
   "outputs": [
    {
     "data": {
      "text/html": [
       "<div>\n",
       "<style scoped>\n",
       "    .dataframe tbody tr th:only-of-type {\n",
       "        vertical-align: middle;\n",
       "    }\n",
       "\n",
       "    .dataframe tbody tr th {\n",
       "        vertical-align: top;\n",
       "    }\n",
       "\n",
       "    .dataframe thead th {\n",
       "        text-align: right;\n",
       "    }\n",
       "</style>\n",
       "<table border=\"1\" class=\"dataframe\">\n",
       "  <thead>\n",
       "    <tr style=\"text-align: right;\">\n",
       "      <th></th>\n",
       "      <th>date</th>\n",
       "      <th>rainfall</th>\n",
       "      <th>depth_to_groundwater</th>\n",
       "      <th>temperature</th>\n",
       "      <th>drainage_volume</th>\n",
       "      <th>river_hydrometry</th>\n",
       "    </tr>\n",
       "  </thead>\n",
       "  <tbody>\n",
       "    <tr>\n",
       "      <th>0</th>\n",
       "      <td>01/01/2009</td>\n",
       "      <td>0.0</td>\n",
       "      <td>-31.14</td>\n",
       "      <td>5.2</td>\n",
       "      <td>-24530.688</td>\n",
       "      <td>2.4</td>\n",
       "    </tr>\n",
       "    <tr>\n",
       "      <th>1</th>\n",
       "      <td>02/01/2009</td>\n",
       "      <td>0.0</td>\n",
       "      <td>-31.11</td>\n",
       "      <td>2.3</td>\n",
       "      <td>-28785.888</td>\n",
       "      <td>2.5</td>\n",
       "    </tr>\n",
       "    <tr>\n",
       "      <th>2</th>\n",
       "      <td>03/01/2009</td>\n",
       "      <td>0.0</td>\n",
       "      <td>-31.07</td>\n",
       "      <td>4.4</td>\n",
       "      <td>-25766.208</td>\n",
       "      <td>2.4</td>\n",
       "    </tr>\n",
       "  </tbody>\n",
       "</table>\n",
       "</div>"
      ],
      "text/plain": [
       "         date  rainfall  depth_to_groundwater  temperature  drainage_volume  \\\n",
       "0  01/01/2009       0.0                -31.14          5.2       -24530.688   \n",
       "1  02/01/2009       0.0                -31.11          2.3       -28785.888   \n",
       "2  03/01/2009       0.0                -31.07          4.4       -25766.208   \n",
       "\n",
       "   river_hydrometry  \n",
       "0               2.4  \n",
       "1               2.5  \n",
       "2               2.4  "
      ]
     },
     "execution_count": 73,
     "metadata": {},
     "output_type": "execute_result"
    }
   ],
   "source": [
    "# Cambiar/Simplificar el nombre de las columnas\n",
    "\n",
    "df.columns = ['date', 'rainfall', 'depth_to_groundwater', 'temperature', 'drainage_volume', 'river_hydrometry']\n",
    "df.head(3)"
   ]
  },
  {
   "cell_type": "code",
   "execution_count": 74,
   "metadata": {},
   "outputs": [
    {
     "name": "stdout",
     "output_type": "stream",
     "text": [
      "Target: ['depth_to_groundwater']\n",
      "Features: ['date', 'rainfall', 'temperature', 'drainage_volume', 'river_hydrometry']\n"
     ]
    }
   ],
   "source": [
    "target = ['depth_to_groundwater']\n",
    "features = [feature for feature in df.columns if feature not in target]\n",
    "#                               || ||\n",
    "# features = ['date', 'rainfall', 'temperature', 'drainage_volume', 'river_hydrometry'] es lo mismo\n",
    "features\n",
    "\n",
    "print(f\"Target: {target}\\nFeatures: {features}\")"
   ]
  },
  {
   "cell_type": "markdown",
   "metadata": {},
   "source": [
    "Features:\n",
    "\n",
    "- `Rainfall` indicates the quantity of rain falling (mm)\n",
    "\n",
    "- `Temperature` indicates the temperature (°C)\n",
    "\n",
    "- `Volume` indicates the volume of water taken from the drinking water treatment plant (m 3 )\n",
    "\n",
    "- `Hydrometry` indicates the groundwater level (m)\n",
    "\n",
    "\n",
    "Target:\n",
    "\n",
    "`Depth to Groundwater` indicates the groundwater level (m from the ground floor)"
   ]
  },
  {
   "cell_type": "markdown",
   "metadata": {},
   "source": [
    "---\n",
    "\n",
    "2. Preprocesamiento de Datos\n",
    "\n",
    "- **Conversión de fechas:** Asegurar que la columna de fechas esté en formato de tipo `Datetime`.\n",
    "\n",
    "- **Ajuste de Frecuencia:** Resamplear los datos si hay inconsistencias o para agregar datos.\n",
    "\n",
    "'''df = df.resample('D').mean()  # Reamuestra a frecuencia diaria'''\n",
    "\n",
    "- **Tratamiento de Datos Faltantes:** Imputación con métodos como forward-fill (ffill), interpolación o eliminación.\n",
    "\n",
    "'''df['valor'].fillna(method='ffill', inplace=True)'''"
   ]
  },
  {
   "cell_type": "code",
   "execution_count": 75,
   "metadata": {},
   "outputs": [
    {
     "name": "stdout",
     "output_type": "stream",
     "text": [
      "<class 'pandas.core.frame.DataFrame'>\n",
      "RangeIndex: 4199 entries, 0 to 4198\n",
      "Data columns (total 6 columns):\n",
      " #   Column                Non-Null Count  Dtype  \n",
      "---  ------                --------------  -----  \n",
      " 0   date                  4199 non-null   object \n",
      " 1   rainfall              4199 non-null   float64\n",
      " 2   depth_to_groundwater  4172 non-null   float64\n",
      " 3   temperature           4199 non-null   float64\n",
      " 4   drainage_volume       4198 non-null   float64\n",
      " 5   river_hydrometry      4199 non-null   float64\n",
      "dtypes: float64(5), object(1)\n",
      "memory usage: 197.0+ KB\n"
     ]
    }
   ],
   "source": [
    "# Obtain information about data types and non-null values\n",
    "\n",
    "df.info()"
   ]
  },
  {
   "cell_type": "code",
   "execution_count": null,
   "metadata": {},
   "outputs": [
    {
     "data": {
      "text/plain": [
       "0      2009-01-01\n",
       "1      2009-01-02\n",
       "2      2009-01-03\n",
       "3      2009-01-04\n",
       "4      2009-01-05\n",
       "          ...    \n",
       "4194   2020-06-26\n",
       "4195   2020-06-27\n",
       "4196   2020-06-28\n",
       "4197   2020-06-29\n",
       "4198   2020-06-30\n",
       "Name: date, Length: 4199, dtype: datetime64[ns]"
      ]
     },
     "execution_count": 77,
     "metadata": {},
     "output_type": "execute_result"
    }
   ],
   "source": [
    "# **Conversión de fechas:** Asegurar que la columna de fechas esté en formato de tipo `Datetime`.\n",
    "# ================================================================================================\n",
    "# Las fechas están en formato día/mes/año y tenemos que ponerlas en mes/día/año\n",
    "\n",
    "df['date'] = pd.to_datetime(df['date'], format = '%d/%m/%Y')\n",
    "# Tener en cuenta el guión para separar fechas (me ha dado error antes)\n",
    "\n",
    "df['date']\n"
   ]
  },
  {
   "cell_type": "markdown",
   "metadata": {},
   "source": [
    "**Ajuste de Frecuencia:** Resamplear los datos si hay inconsistencias o para agregar datos."
   ]
  },
  {
   "cell_type": "code",
   "execution_count": 79,
   "metadata": {},
   "outputs": [],
   "source": [
    "# df = df.resample('D').mean()  # Remuestra la frecuencia diaria"
   ]
  },
  {
   "cell_type": "markdown",
   "metadata": {},
   "source": [
    "**Tratamiento de Datos Faltantes:** Imputación con métodos como forward-fill (ffill), interpolación o eliminación."
   ]
  },
  {
   "cell_type": "code",
   "execution_count": null,
   "metadata": {},
   "outputs": [],
   "source": [
    "\n",
    "\n",
    "df['valor'].fillna(method='ffill', inplace=True)"
   ]
  },
  {
   "cell_type": "markdown",
   "metadata": {},
   "source": [
    "To give you an example regarding the Auser waterbody, if you have data observations until 31.12.2020 (t) and you try to predict the “Depth_to_Groundwater” at date 30.01.2021 (t+1) you are allowed to use all data, also the Depth_to_Groundwater measured in November (t-1), October (t-2), September (t-3) etc.\n",
    "\n",
    "\n",
    "Please notice also that, if you are willing to predict “Depth_to_Groundwater” at date 28.02.2021(t+2), in order to understand how far the prediction can go, you can use exclusively the given data, this means you cannot include either your estimated “Depth_to_Groundwater” value at 30.01.2021 (t+1) or temperature/rainfall weather predictions for the month of February (t+2)."
   ]
  }
 ],
 "metadata": {
  "kernelspec": {
   "display_name": "base",
   "language": "python",
   "name": "python3"
  },
  "language_info": {
   "codemirror_mode": {
    "name": "ipython",
    "version": 3
   },
   "file_extension": ".py",
   "mimetype": "text/x-python",
   "name": "python",
   "nbconvert_exporter": "python",
   "pygments_lexer": "ipython3",
   "version": "3.12.3"
  },
  "orig_nbformat": 4
 },
 "nbformat": 4,
 "nbformat_minor": 2
}
